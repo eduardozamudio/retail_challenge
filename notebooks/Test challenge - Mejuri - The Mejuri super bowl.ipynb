{
 "cells": [
  {
   "cell_type": "markdown",
   "metadata": {},
   "source": [
    "# Test challenge for Mejuri\n",
    "\n",
    "This notebook corresponds to the *\"The Mejuri super bowl\"* section of the [test challenge.](https://bitbucket.org/mejuri/data-challenge)\n",
    "\n",
    "The statement is as follows:\n",
    "\n",
    "\n",
    "<cite>\n",
    "As you might know, the year is divided in quarters, here at Mejuri, even though each day counts, we put a lot of effort to perform and succeed during the Q4 (October, November, and December). \n",
    "What's special about this? Black Friday week! (and holidays, of course). You will find in the file below the historical data from 2016 to the beginning of October 2018. You can see all the items sold during the last 2 years and the idea is to create a model to forecast the inventory needed for November and December of 2018.\n",
    "Even though the data might not be enough, do your best and justify your approach. \n",
    "</cite>"
   ]
  },
  {
   "cell_type": "code",
   "execution_count": null,
   "metadata": {},
   "outputs": [],
   "source": []
  }
 ],
 "metadata": {
  "kernelspec": {
   "display_name": "Python 3",
   "language": "python",
   "name": "python3"
  },
  "language_info": {
   "codemirror_mode": {
    "name": "ipython",
    "version": 3
   },
   "file_extension": ".py",
   "mimetype": "text/x-python",
   "name": "python",
   "nbconvert_exporter": "python",
   "pygments_lexer": "ipython3",
   "version": "3.5.2"
  }
 },
 "nbformat": 4,
 "nbformat_minor": 2
}
