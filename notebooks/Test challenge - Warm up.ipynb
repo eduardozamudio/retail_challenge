{
 "cells": [
  {
   "cell_type": "markdown",
   "metadata": {},
   "source": [
    "# Test challenge (Warm up)\n",
    "\n"
   ]
  },
  {
   "cell_type": "markdown",
   "metadata": {},
   "source": [
    "This is a warm up for the test challenge. \n",
    "\n",
    "The aim is to have a first look of the data.\n",
    "\n",
    "We start by reading the data and doing some exploratory analysis. We also introduce some observations and questions about the data that can lead to further analysis.\n",
    "\n",
    "This notebook is organized as follows:\n",
    "1. Preprocessing\n",
    "2. Exploratory analysis"
   ]
  },
  {
   "cell_type": "markdown",
   "metadata": {},
   "source": [
    "## Preprocessing"
   ]
  },
  {
   "cell_type": "markdown",
   "metadata": {},
   "source": [
    "First of all, we have to do the imports"
   ]
  },
  {
   "cell_type": "code",
   "execution_count": 3,
   "metadata": {},
   "outputs": [],
   "source": [
    "import pandas as pd\n",
    "import seaborn as sns\n",
    "\n",
    "%matplotlib inline"
   ]
  },
  {
   "cell_type": "markdown",
   "metadata": {},
   "source": [
    "Then, read the data from the csv file. We will use a pandas Dataframe structure "
   ]
  },
  {
   "cell_type": "code",
   "execution_count": 4,
   "metadata": {},
   "outputs": [],
   "source": [
    "df = pd.read_csv('../data/orders_report.csv')"
   ]
  },
  {
   "cell_type": "markdown",
   "metadata": {},
   "source": [
    "Ok, now we have the data on the 'df' variable. Lets take a look."
   ]
  },
  {
   "cell_type": "code",
   "execution_count": 5,
   "metadata": {},
   "outputs": [
    {
     "data": {
      "text/plain": [
       "<bound method NDFrame.head of        Orders Completed Date                 Orders Email Hash Orders Number  \\\n",
       "0                 2018-09-21  b6efaf41cdb44733b926b23222521439  M100008562YP   \n",
       "1                 2018-09-26  bd9eabcb802d539acd17097a9963cd19  M100018185UW   \n",
       "2                 2018-09-08  d6bcbdb2f3564726da36c30a96b70cba  M100041026XU   \n",
       "3                 2018-09-11  3468d1e012dc8bd76b95e31ecd975521  M100057929FK   \n",
       "4                 2018-09-10  95f131c2ffa9a2600df63444daabde32  M100061442OL   \n",
       "5                 2018-09-14  0697059166921e625cec5d031fc9fecc  M100064927ZV   \n",
       "6                 2018-09-14  0697059166921e625cec5d031fc9fecc  M100064927ZV   \n",
       "7                 2018-09-21  dd50c652fe716a44be2ccb024de8ab76  M100065145LU   \n",
       "8                 2018-09-13  ed4bce97bedb3a8c5573a2fe9327a685  M100081507OU   \n",
       "9                 2018-09-13  ed4bce97bedb3a8c5573a2fe9327a685  M100081507OU   \n",
       "10                2018-09-30  3f6936bb5515186ec74c71baf105447f  M100081994JQ   \n",
       "11                2018-09-30  3f6936bb5515186ec74c71baf105447f  M100081994JQ   \n",
       "12                2018-09-27  87b083bb0b094c61bcba281fd508ae09  M100083902BO   \n",
       "13                2018-10-02  91a4540e5723713cc0cddb1deb809ba7  M100084340EQ   \n",
       "14                2018-09-28  983bf4dffd7259001a9b80f1aef39ce1  M100084896GM   \n",
       "15                2018-09-17  b94da97f5fca232b9d8c39c90240a996  M100098226UV   \n",
       "16                2018-09-20  10878109b4f301fba43d0663b93dac07  M100105242JY   \n",
       "17                2018-09-20  10878109b4f301fba43d0663b93dac07  M100105242JY   \n",
       "18                2018-09-13  bc37267d623235e86e451c3da4b094a8  M100127644OW   \n",
       "19                2018-10-04  adc64a6df97bdf5cf9ce0d9a10789b22  M100162646LJ   \n",
       "20                2018-09-24  e4299bf6bb9ca6909c628792ceaaa057  M100186533YC   \n",
       "21                2018-09-24  e4299bf6bb9ca6909c628792ceaaa057  M100186533YC   \n",
       "22                2018-09-14  85cfc7a1edd225d3f5f953ee65e54ddf  M100192625RX   \n",
       "23                2018-09-28  8c1525271859c28187bca2f7a0930e86  M100214897EA   \n",
       "24                2018-10-02  efbc771f351b18af173311b307c5916b  M100219988GR   \n",
       "25                2018-09-08  c6f2488fcb6163769bc3e7b8f7412198  M100221125FA   \n",
       "26                2018-09-24  7acf60cccbade331d8d3bc7eb119e161  M100304659XU   \n",
       "27                2018-09-24  7acf60cccbade331d8d3bc7eb119e161  M100304659XU   \n",
       "28                2018-09-29  32ef46d190dde70cec4eb5b26277bf56  M100308178RO   \n",
       "29                2018-09-29  32ef46d190dde70cec4eb5b26277bf56  M100308178RO   \n",
       "...                      ...                               ...           ...   \n",
       "185250            2018-08-16  6a2b8e11dce6e9a5313be7fd0e5b79af    R998873589   \n",
       "185251            2018-08-26  c068de433c9db5986145f6c5db3887f1    R998875380   \n",
       "185252            2018-07-19  1d40ec896f3aa46448200858c3ee46e8    R998925049   \n",
       "185253            2018-07-19  1d40ec896f3aa46448200858c3ee46e8    R998925049   \n",
       "185254            2018-07-19  1d40ec896f3aa46448200858c3ee46e8    R998925049   \n",
       "185255            2018-07-14  00600b33099eee97505112dfce28e14b    R998937644   \n",
       "185256            2018-08-12  c96596bf2177200c03ac45c64c044576    R999124198   \n",
       "185257            2018-09-03  84fcf6b09cd1b014fa4cb79de9bb5d51    R999135730   \n",
       "185258            2018-07-25  c9d2070e60372b4d15c234d0959f86da    R999146802   \n",
       "185259            2018-07-13  003a7265ea288327f5139f2318cc34cf    R999193629   \n",
       "185260            2018-09-09  4b63b4432107ef88ee618a58ed78fa7d    R999211341   \n",
       "185261            2018-09-04  d3ca67e265d01921d702b200e98fd2f6    R999249427   \n",
       "185262            2018-09-04  d3ca67e265d01921d702b200e98fd2f6    R999249427   \n",
       "185263            2018-09-04  210ae7370a8bd115e13e3e78fdbf78fa    R999355055   \n",
       "185264            2018-08-10  f59f5387242600376b59d9d07916815f    R999394206   \n",
       "185265            2018-08-27  6ef524d164aca22d7d364d730b6af3cc    R999403372   \n",
       "185266            2018-08-27  7282a2835f3dc12cf626f6d1506c9430    R999428177   \n",
       "185267            2018-08-31  424bd2f0e447149223582506323e0f80    R999550749   \n",
       "185268            2018-08-24  aa116adad139da3b8ca093f068e05420    R999643376   \n",
       "185269            2018-08-24  aa116adad139da3b8ca093f068e05420    R999643376   \n",
       "185270            2018-07-14  ddb4537a9d9fda7ca4f0a3e1a9348832    R999644007   \n",
       "185271            2018-07-10  231c512a9dfc6e8d0ad7a17b6fca4fed    R999684701   \n",
       "185272            2018-07-10  231c512a9dfc6e8d0ad7a17b6fca4fed    R999684701   \n",
       "185273            2018-08-10  e8cb34916c0c17f8f28cf363a4fd646e    R999806183   \n",
       "185274            2018-07-28  b64e2eb5e4e74761e422f93b48a11399    R999843332   \n",
       "185275            2018-09-01  588031bfa147127541fd7efbaf7d8848    R999859282   \n",
       "185276            2018-08-27  9e871af40aa4dee174a80628cba08db3    R999911503   \n",
       "185277            2018-08-27  9e871af40aa4dee174a80628cba08db3    R999911503   \n",
       "185278            2018-09-03  c1a634193aeb7ab3e2804742e1b3f75a    R999913491   \n",
       "185279            2018-08-02  43ebedaf8dab01f19be49ab04e29f954    R999924145   \n",
       "\n",
       "       Variants SKU                      Products Name  Line Items Quantity  \\\n",
       "0         p52505564                 Diamonds Team Ring                    1   \n",
       "1         p52505531                        Small Hoops                    1   \n",
       "2         p52505523                  Zodiac Ring Virgo                    1   \n",
       "3           p052669             Sapphire Choker Silver                    1   \n",
       "4         p52505570                         Ring Sizer                    1   \n",
       "5          p5250409                     Sapphire Hoops                    1   \n",
       "6         p52506095  Starburst Necklace White Sapphire                    1   \n",
       "7         p52505542          Boyfriend Stacker Vermeil                    1   \n",
       "8           p052387              Twist Ring White Gold                    1   \n",
       "9           p052660            Stacker Ring White Gold                    1   \n",
       "10          p052374                        Beaded Ring                    1   \n",
       "11          p052383                         Twist Ring                    1   \n",
       "12          p052723        Silver Engravable Necklace                     4   \n",
       "13        p52505123          Zodiac Necklace Capricorn                    1   \n",
       "14        p52704195                     Curb Necklace                     1   \n",
       "15          p052487                   Spheres Bracelet                    1   \n",
       "16        p52505545          Boyfriend Stacker Vermeil                    1   \n",
       "17        p52505567                         Trio Hoops                    1   \n",
       "18        p52505557                    Spiral Earrings                    1   \n",
       "19        p52704200                     Bound Necklace                    1   \n",
       "20        p52704196                         Bound Cuff                    1   \n",
       "21        p52704198                   Bound Chain Cuff                    1   \n",
       "22        p52505533                        Large Hoops                    1   \n",
       "23        p52704214      Boss Signet London Blue Topaz                    1   \n",
       "24        p52505529                 Zodiac Ring Gemini                    1   \n",
       "25        p52506100                   Mini Lotus Studs                    1   \n",
       "26          p000474                   Pearl Mini Studs                    1   \n",
       "27          p000490                   Diamond Necklace                    1   \n",
       "28        p52505441                           Duo Ring                    1   \n",
       "29        p52505593                            X Studs                    1   \n",
       "...             ...                                ...                  ...   \n",
       "185250    p52506124                    Locket Necklace                    1   \n",
       "185251    p52506296                        Travel Case                    1   \n",
       "185252      p051508                  Midi Hoops Silver                    1   \n",
       "185253     p5250409                     Sapphire Hoops                    1   \n",
       "185254     p5250410                         Midi Hoops                    1   \n",
       "185255    p52505730               Hue Ring Green Topaz                    1   \n",
       "185256      p052456                        Lotus Studs                    1   \n",
       "185257    p52505751      Cabochon Necklace Rose Quartz                    1   \n",
       "185258    p52505484                    Zodiac Ring Leo                    1   \n",
       "185259    p52506132                        Eyelet Ring                    1   \n",
       "185260    p52505311     Diamond Beaded Ring White Gold                    1   \n",
       "185261    p52505570                         Ring Sizer                    1   \n",
       "185262    p52506100                   Mini Lotus Studs                    1   \n",
       "185263    p52505570                         Ring Sizer                    1   \n",
       "185264    p52505568                          Duo Hoops                    1   \n",
       "185265     p5250421                     Chain Necklace                    1   \n",
       "185266    p52505520                  Zodiac Ring Virgo                    1   \n",
       "185267      p052668                    Sapphire Choker                    1   \n",
       "185268    p52505471                 Zodiac Ring Cancer                    1   \n",
       "185269    p52505533                        Large Hoops                    1   \n",
       "185270    p52505530                          Mini Hoop                    2   \n",
       "185271    p52505323               Engravable Bar Charm                    1   \n",
       "185272    p52505362                Diamonds Line Hoops                    1   \n",
       "185273    p52505533                        Large Hoops                    1   \n",
       "185274    p52505130                Zodiac Necklace Leo                    1   \n",
       "185275    p52505532                      Between Hoops                    1   \n",
       "185276    p52505569                       360 Earrings                    1   \n",
       "185277    p52506117  Satellite Necklace White Sapphire                    1   \n",
       "185278      p052730                  360 Studs Silver                     1   \n",
       "185279    p52506132                        Eyelet Ring                    1   \n",
       "\n",
       "        Line Items Price              Material Categories Name  \\\n",
       "0                  495.0            Solid Yellow Gold, Diamond   \n",
       "1                   62.0                     Solid Yellow Gold   \n",
       "2                   69.0          Gold Vermeil, White Sapphire   \n",
       "3                   70.0       Sterling Silver, White Sapphire   \n",
       "4                    0.0                                   NaN   \n",
       "5                   59.0          Gold Vermeil, White Sapphire   \n",
       "6                   65.0          Gold Vermeil, White Sapphire   \n",
       "7                   59.0                          Gold Vermeil   \n",
       "8                   88.0                      Solid White Gold   \n",
       "9                   88.0                      Solid White Gold   \n",
       "10                  88.0                     Solid Yellow Gold   \n",
       "11                  88.0                     Solid Yellow Gold   \n",
       "12                  75.0                       Sterling Silver   \n",
       "13                 101.0          Gold Vermeil, White Sapphire   \n",
       "14                 325.0                     Solid Yellow Gold   \n",
       "15                 130.0                                   NaN   \n",
       "16                  75.0                          Gold Vermeil   \n",
       "17                  88.0                          Gold Vermeil   \n",
       "18                 125.0                     Solid Yellow Gold   \n",
       "19                 100.0                          Gold Vermeil   \n",
       "20                  32.0                          Gold Vermeil   \n",
       "21                  35.0                          Gold Vermeil   \n",
       "22                 100.0                     Solid Yellow Gold   \n",
       "23                 245.0  Solid Yellow Gold, London Blue Topaz   \n",
       "24                  69.0          Gold Vermeil, White Sapphire   \n",
       "25                  99.0     Solid Yellow Gold, White Sapphire   \n",
       "26                  65.0              Solid Yellow Gold, Pearl   \n",
       "27                 290.0            Solid Yellow Gold, Diamond   \n",
       "28                 299.0                     Solid Yellow Gold   \n",
       "29                  89.0                     Solid Yellow Gold   \n",
       "...                  ...                                   ...   \n",
       "185250             126.0                          Gold Vermeil   \n",
       "185251              95.0                                   NaN   \n",
       "185252              49.0                       Sterling Silver   \n",
       "185253              59.0          Gold Vermeil, White Sapphire   \n",
       "185254              49.0                          Gold Vermeil   \n",
       "185255             155.0        Solid Yellow Gold, Green Topaz   \n",
       "185256              79.0          Gold Vermeil, White Sapphire   \n",
       "185257              79.0             Gold Vermeil, Rose Quartz   \n",
       "185258              88.0          Gold Vermeil, White Sapphire   \n",
       "185259             324.0            Solid Yellow Gold, Diamond   \n",
       "185260             169.0             Solid White Gold, Diamond   \n",
       "185261               0.0                                   NaN   \n",
       "185262              99.0     Solid Yellow Gold, White Sapphire   \n",
       "185263               0.0                                   NaN   \n",
       "185264              69.0                          Gold Vermeil   \n",
       "185265             170.0                     Solid Yellow Gold   \n",
       "185266              88.0          Gold Vermeil, White Sapphire   \n",
       "185267              55.0          Gold Vermeil, White Sapphire   \n",
       "185268              69.0          Gold Vermeil, White Sapphire   \n",
       "185269              79.0                     Solid Yellow Gold   \n",
       "185270              20.0                     Solid Yellow Gold   \n",
       "185271              99.0                     Solid Yellow Gold   \n",
       "185272             335.0            Solid Yellow Gold, Diamond   \n",
       "185273             100.0                     Solid Yellow Gold   \n",
       "185274              79.0          Gold Vermeil, White Sapphire   \n",
       "185275              65.0                     Solid Yellow Gold   \n",
       "185276              40.0                          Gold Vermeil   \n",
       "185277              69.0          Gold Vermeil, White Sapphire   \n",
       "185278              45.0                       Sterling Silver   \n",
       "185279             255.0            Solid Yellow Gold, Diamond   \n",
       "\n",
       "          Material Groups Name Orders Payment Total Orders Currency  \\\n",
       "0                          NaN               559.35             CAD   \n",
       "1             Diamond Necklace                70.06             CAD   \n",
       "2       Layered Spheres Choker                79.00             USD   \n",
       "3              Thumbtack Studs                87.10             CAD   \n",
       "4                          NaN                 4.00             USD   \n",
       "5       Layered Spheres Choker               111.60             USD   \n",
       "6       Layered Spheres Choker               111.60             USD   \n",
       "7                   Bold Hoops                69.00             USD   \n",
       "8          Engravable Necklace               198.88             CAD   \n",
       "9          Engravable Necklace               198.88             CAD   \n",
       "10            Diamond Necklace               198.88             CAD   \n",
       "11            Diamond Necklace               198.88             CAD   \n",
       "12                         NaN               270.00             USD   \n",
       "13      Layered Spheres Choker               106.05             CAD   \n",
       "14            Diamond Necklace               325.00             USD   \n",
       "15                         NaN               130.00             USD   \n",
       "16                  Bold Hoops               184.19             CAD   \n",
       "17                  Bold Hoops               184.19             CAD   \n",
       "18            Diamond Necklace               125.00             USD   \n",
       "19                  Bold Hoops               130.00             CAD   \n",
       "20                  Bold Hoops                97.00             USD   \n",
       "21                  Bold Hoops                97.00             USD   \n",
       "22            Diamond Necklace               113.00             CAD   \n",
       "23             Bold Edged Cuff               245.00             USD   \n",
       "24      Layered Spheres Choker                79.00             USD   \n",
       "25           Evil Eye Necklace               109.00             USD   \n",
       "26                   Pop Charm               355.00             USD   \n",
       "27                         NaN               355.00             USD   \n",
       "28            Diamond Necklace               388.00             USD   \n",
       "29            Diamond Necklace               388.00             USD   \n",
       "...                        ...                  ...             ...   \n",
       "185250              Bold Hoops               142.38             CAD   \n",
       "185251                     NaN               105.00             USD   \n",
       "185252                     NaN               157.00             USD   \n",
       "185253  Layered Spheres Choker               157.00             USD   \n",
       "185254              Bold Hoops               157.00             USD   \n",
       "185255                     NaN               155.00             USD   \n",
       "185256  Layered Spheres Choker                89.00             USD   \n",
       "185257        Edged Pinky Ring                79.00             USD   \n",
       "185258  Layered Spheres Choker                99.44             CAD   \n",
       "185259                     NaN                 0.00             CAD   \n",
       "185260            Sphere Studs                 0.00             USD   \n",
       "185261                     NaN               109.00             USD   \n",
       "185262       Evil Eye Necklace               109.00             USD   \n",
       "185263                     NaN                 4.00             USD   \n",
       "185264              Bold Hoops                79.00             USD   \n",
       "185265        Diamond Necklace               170.00             USD   \n",
       "185266  Layered Spheres Choker               100.40             CAD   \n",
       "185267  Layered Spheres Choker                55.00             USD   \n",
       "185268  Layered Spheres Choker               148.00             USD   \n",
       "185269        Diamond Necklace               148.00             USD   \n",
       "185270        Diamond Necklace                50.00             USD   \n",
       "185271        Diamond Necklace               434.00             USD   \n",
       "185272                     NaN               434.00             USD   \n",
       "185273        Diamond Necklace               113.00             CAD   \n",
       "185274  Layered Spheres Choker                89.00             USD   \n",
       "185275        Diamond Necklace                65.00             USD   \n",
       "185276              Bold Hoops                 1.00             USD   \n",
       "185277  Layered Spheres Choker                 1.00             USD   \n",
       "185278                     NaN                50.85             CAD   \n",
       "185279                     NaN               255.00             USD   \n",
       "\n",
       "       Shipping Address ISO Name Purchase Locations Method  \n",
       "0                         CANADA                   offline  \n",
       "1                         CANADA                   offline  \n",
       "2                  UNITED STATES                    online  \n",
       "3                         CANADA                    online  \n",
       "4                  UNITED STATES                    online  \n",
       "5                  UNITED STATES                    online  \n",
       "6                  UNITED STATES                    online  \n",
       "7                  UNITED STATES                    online  \n",
       "8                         CANADA                    online  \n",
       "9                         CANADA                    online  \n",
       "10                        CANADA                   offline  \n",
       "11                        CANADA                   offline  \n",
       "12                     AUSTRALIA                    online  \n",
       "13                        CANADA                    online  \n",
       "14                 UNITED STATES                    online  \n",
       "15                 UNITED STATES                    online  \n",
       "16                        CANADA                   offline  \n",
       "17                        CANADA                   offline  \n",
       "18                 UNITED STATES                    online  \n",
       "19            KOREA, REPUBLIC OF                   offline  \n",
       "20                     SINGAPORE                    online  \n",
       "21                     SINGAPORE                    online  \n",
       "22                        CANADA                    online  \n",
       "23                 UNITED STATES                    online  \n",
       "24                 UNITED STATES                    online  \n",
       "25                 UNITED STATES                    online  \n",
       "26                 UNITED STATES                    online  \n",
       "27                 UNITED STATES                    online  \n",
       "28                 UNITED STATES                    online  \n",
       "29                 UNITED STATES                    online  \n",
       "...                          ...                       ...  \n",
       "185250                    CANADA                    online  \n",
       "185251             UNITED STATES                    online  \n",
       "185252             UNITED STATES                    online  \n",
       "185253             UNITED STATES                    online  \n",
       "185254             UNITED STATES                    online  \n",
       "185255             UNITED STATES                    online  \n",
       "185256             UNITED STATES                    online  \n",
       "185257             UNITED STATES                    online  \n",
       "185258                    CANADA                   offline  \n",
       "185259                    CANADA                    online  \n",
       "185260             UNITED STATES                    online  \n",
       "185261             UNITED STATES                    online  \n",
       "185262             UNITED STATES                    online  \n",
       "185263             UNITED STATES                    online  \n",
       "185264             UNITED STATES                    online  \n",
       "185265             UNITED STATES                    online  \n",
       "185266                    CANADA                    online  \n",
       "185267             UNITED STATES                    online  \n",
       "185268             UNITED STATES                    online  \n",
       "185269             UNITED STATES                    online  \n",
       "185270             UNITED STATES                    online  \n",
       "185271             UNITED STATES                    online  \n",
       "185272             UNITED STATES                    online  \n",
       "185273                    CANADA                    online  \n",
       "185274             UNITED STATES                    online  \n",
       "185275             UNITED STATES                    online  \n",
       "185276             UNITED STATES                    online  \n",
       "185277             UNITED STATES                    online  \n",
       "185278                    CANADA                    online  \n",
       "185279             UNITED STATES                    online  \n",
       "\n",
       "[185280 rows x 13 columns]>"
      ]
     },
     "execution_count": 5,
     "metadata": {},
     "output_type": "execute_result"
    }
   ],
   "source": [
    "# first columns\n",
    "df.head"
   ]
  },
  {
   "cell_type": "code",
   "execution_count": 6,
   "metadata": {},
   "outputs": [
    {
     "data": {
      "text/plain": [
       "Orders Completed Date                              2018-09-21\n",
       "Orders Email Hash            b6efaf41cdb44733b926b23222521439\n",
       "Orders Number                                    M100008562YP\n",
       "Variants SKU                                        p52505564\n",
       "Products Name                              Diamonds Team Ring\n",
       "Line Items Quantity                                         1\n",
       "Line Items Price                                          495\n",
       "Material Categories Name           Solid Yellow Gold, Diamond\n",
       "Material Groups Name                                      NaN\n",
       "Orders Payment Total                                   559.35\n",
       "Orders Currency                                           CAD\n",
       "Shipping Address ISO Name                              CANADA\n",
       "Purchase Locations Method                             offline\n",
       "Name: 0, dtype: object"
      ]
     },
     "execution_count": 6,
     "metadata": {},
     "output_type": "execute_result"
    }
   ],
   "source": [
    "# What about the first row?\n",
    "df.iloc[0]"
   ]
  },
  {
   "cell_type": "markdown",
   "metadata": {},
   "source": [
    "Now, let's take a look of the data types"
   ]
  },
  {
   "cell_type": "code",
   "execution_count": 7,
   "metadata": {},
   "outputs": [
    {
     "data": {
      "text/plain": [
       "Orders Completed Date         object\n",
       "Orders Email Hash             object\n",
       "Orders Number                 object\n",
       "Variants SKU                  object\n",
       "Products Name                 object\n",
       "Line Items Quantity            int64\n",
       "Line Items Price             float64\n",
       "Material Categories Name      object\n",
       "Material Groups Name          object\n",
       "Orders Payment Total          object\n",
       "Orders Currency               object\n",
       "Shipping Address ISO Name     object\n",
       "Purchase Locations Method     object\n",
       "dtype: object"
      ]
     },
     "execution_count": 7,
     "metadata": {},
     "output_type": "execute_result"
    }
   ],
   "source": [
    "df.dtypes"
   ]
  },
  {
   "cell_type": "markdown",
   "metadata": {},
   "source": [
    "We want to handle dates and float correcly. Let's do some changes in the data types."
   ]
  },
  {
   "cell_type": "code",
   "execution_count": 8,
   "metadata": {},
   "outputs": [],
   "source": [
    "# switch object to datetime for date columns \n",
    "df['Orders Completed Date'] = pd.to_datetime(df['Orders Completed Date'], format='%Y-%m-%d')"
   ]
  },
  {
   "cell_type": "code",
   "execution_count": 9,
   "metadata": {},
   "outputs": [],
   "source": [
    "# switch object to float for numeric columns\n",
    "df['Orders Payment Total'] = [float(s.replace(',','')) for s in df['Orders Payment Total']]"
   ]
  },
  {
   "cell_type": "code",
   "execution_count": 10,
   "metadata": {},
   "outputs": [
    {
     "data": {
      "text/plain": [
       "Orders Completed Date        datetime64[ns]\n",
       "Orders Email Hash                    object\n",
       "Orders Number                        object\n",
       "Variants SKU                         object\n",
       "Products Name                        object\n",
       "Line Items Quantity                   int64\n",
       "Line Items Price                    float64\n",
       "Material Categories Name             object\n",
       "Material Groups Name                 object\n",
       "Orders Payment Total                float64\n",
       "Orders Currency                      object\n",
       "Shipping Address ISO Name            object\n",
       "Purchase Locations Method            object\n",
       "dtype: object"
      ]
     },
     "execution_count": 10,
     "metadata": {},
     "output_type": "execute_result"
    }
   ],
   "source": [
    "df.dtypes"
   ]
  },
  {
   "cell_type": "markdown",
   "metadata": {},
   "source": [
    "Alright! Now we have the correct datatypes, so we can start with some descriptive analysis"
   ]
  },
  {
   "cell_type": "markdown",
   "metadata": {},
   "source": [
    "## Exploratory analysis"
   ]
  },
  {
   "cell_type": "markdown",
   "metadata": {},
   "source": [
    "Let's start the descriptive analysis with some distributions of the data."
   ]
  },
  {
   "cell_type": "markdown",
   "metadata": {},
   "source": [
    "### Dates"
   ]
  },
  {
   "cell_type": "code",
   "execution_count": 11,
   "metadata": {},
   "outputs": [
    {
     "data": {
      "text/plain": [
       "Orders Completed Date  Orders Completed Date\n",
       "2016                   1                         1655\n",
       "                       2                         2442\n",
       "                       3                         2705\n",
       "                       4                         7470\n",
       "2017                   1                         6535\n",
       "                       2                         7278\n",
       "                       3                        12797\n",
       "                       4                        33838\n",
       "2018                   1                        30256\n",
       "                       2                        32832\n",
       "                       3                        44968\n",
       "                       4                         2504\n",
       "Name: Orders Completed Date, dtype: int64"
      ]
     },
     "execution_count": 11,
     "metadata": {},
     "output_type": "execute_result"
    }
   ],
   "source": [
    "df['Orders Completed Date'].groupby([df['Orders Completed Date'].dt.year, df['Orders Completed Date'].dt.quarter]).count()"
   ]
  },
  {
   "cell_type": "code",
   "execution_count": 12,
   "metadata": {},
   "outputs": [
    {
     "data": {
      "text/plain": [
       "<matplotlib.axes._subplots.AxesSubplot at 0x7f1ca584b278>"
      ]
     },
     "execution_count": 12,
     "metadata": {},
     "output_type": "execute_result"
    },
    {
     "data": {
      "image/png": "[encoded data removed]",
      "text/plain": [
       "<Figure size 432x288 with 1 Axes>"
      ]
     },
     "metadata": {
      "needs_background": "light"
     },
     "output_type": "display_data"
    }
   ],
   "source": [
    "counts = df['Orders Completed Date'].groupby([df['Orders Completed Date'].dt.year, df['Orders Completed Date'].dt.quarter]).count()\n",
    "counts.index.rename(['year', 'quarter'], inplace=True)\n",
    "\n",
    "counts.plot(kind='bar')"
   ]
  },
  {
   "cell_type": "markdown",
   "metadata": {},
   "source": [
    "Now, let's reindex the data to compare quarters among years\n",
    "\n",
    "We can assign some colors to groups"
   ]
  },
  {
   "cell_type": "code",
   "execution_count": 13,
   "metadata": {},
   "outputs": [],
   "source": [
    "df_counts = pd.DataFrame(counts)\n",
    "df_counts.rename(columns={'Orders Completed Date' : 'quantity'}, inplace=True)\n",
    "df_counts.reset_index(level=counts.index.names, inplace=True)\n",
    "#df_counts.columns = ['Quantity']"
   ]
  },
  {
   "cell_type": "code",
   "execution_count": 14,
   "metadata": {},
   "outputs": [
    {
     "data": {
      "text/plain": [
       "<matplotlib.axes._subplots.AxesSubplot at 0x7f1ca24157f0>"
      ]
     },
     "execution_count": 14,
     "metadata": {},
     "output_type": "execute_result"
    },
    {
     "data": {
      "image/png": "[encoded data removed]",
      "text/plain": [
       "<Figure size 432x288 with 1 Axes>"
      ]
     },
     "metadata": {
      "needs_background": "light"
     },
     "output_type": "display_data"
    }
   ],
   "source": [
    "sns.barplot(df_counts['quarter'],df_counts['quantity'], df_counts['year'] )"
   ]
  },
  {
   "cell_type": "markdown",
   "metadata": {},
   "source": [
    "Some observations:\n",
    "* There is an increasing tendancy on sales in the period (2016-2018)\n",
    "* 2018.Q4 is still in progress\n",
    "\n",
    "Questions:\n",
    "* What is the estimated sales volume for 2018.Q4?"
   ]
  },
  {
   "cell_type": "markdown",
   "metadata": {},
   "source": [
    "### Clients"
   ]
  },
  {
   "cell_type": "markdown",
   "metadata": {},
   "source": [
    "Which are the most frequent clients?"
   ]
  },
  {
   "cell_type": "code",
   "execution_count": 15,
   "metadata": {},
   "outputs": [],
   "source": [
    "clients_freq = df['Orders Email Hash'].groupby(df['Orders Email Hash']).count().sort_values(ascending=False)"
   ]
  },
  {
   "cell_type": "code",
   "execution_count": 16,
   "metadata": {},
   "outputs": [
    {
     "data": {
      "text/plain": [
       "Orders Email Hash\n",
       "218f052ca6ae2d95157e73b89bd98f2c    117\n",
       "fc932092e1efd993ebcda91e3159e7f6    103\n",
       "b1faf7371b34e3e3222d3b843639efa1     98\n",
       "a13cb38b64df61d9501f92e6b600ed4b     77\n",
       "1c25aba1d62fde8d31482f89b9bde68c     75\n",
       "3a0673bcce2751bf365c174f46ba9bf8     69\n",
       "a07b5eacbb81748ef0a4c5a1c6c5ddeb     67\n",
       "af1ad87d94f62ddd4695c1ef8d93f6ac     63\n",
       "0dd5447ce0bc0e0167c87b47a59a0f4b     56\n",
       "32395181f10334b23f664640473e89c2     51\n",
       "956fa3d47640a88cffcab6ab9a161743     50\n",
       "2babc97dc37580a6ef0474ba388baf32     49\n",
       "449c20cd0408247252ba81b03f16f897     45\n",
       "639b6ac9d7db475bdae9903d430baf16     45\n",
       "6113e10c816230246d353566845f7f34     44\n",
       "a7bb02fc9c31d506283def44da91ba86     44\n",
       "d6bef5054b1f1bf721a27dc7d8b1ae31     40\n",
       "7a7970d21c27441c3e3ed67d1b6b18a5     40\n",
       "90e59f508ad898752a77a20d8a417580     39\n",
       "fb7dd9d97090525d3d56814be0f7f108     38\n",
       "4e4f59b13e5cbf1ee88e1a14d45db11f     38\n",
       "1b6a79db5bc6240a0b19399294e014c7     37\n",
       "39519de938274bdfc11540189f801f1d     37\n",
       "957a003af1f965e5ddd8dc6a3b294ad7     37\n",
       "e3ce8683e20663e903e4ad05d66e0f8e     36\n",
       "1fe6ef810792f5f215948eae99457603     36\n",
       "88350c0d1b30df0ce565e72fd5cd860d     35\n",
       "a3498f95729af1bde4d68fb2176ae3dd     35\n",
       "2e7098d46b014241c3e4a6f09eb9ccf5     35\n",
       "84104a7b1903938a9246b5a9a59f7417     35\n",
       "Name: Orders Email Hash, dtype: int64"
      ]
     },
     "execution_count": 16,
     "metadata": {},
     "output_type": "execute_result"
    }
   ],
   "source": [
    "clients_freq.head(30)"
   ]
  },
  {
   "cell_type": "markdown",
   "metadata": {},
   "source": [
    "What is the buying behavior of the most frequent client?"
   ]
  },
  {
   "cell_type": "code",
   "execution_count": 17,
   "metadata": {},
   "outputs": [],
   "source": [
    "mostfreq_client = df[df['Orders Email Hash'] == '218f052ca6ae2d95157e73b89bd98f2c']"
   ]
  },
  {
   "cell_type": "code",
   "execution_count": 18,
   "metadata": {},
   "outputs": [],
   "source": [
    "mostfreq_client = mostfreq_client['Orders Email Hash'].groupby([mostfreq_client['Orders Completed Date'].dt.year, mostfreq_client['Orders Completed Date'].dt.quarter]).count()\n",
    "mostfreq_client.index.rename(['year', 'quarter'], inplace=True) "
   ]
  },
  {
   "cell_type": "code",
   "execution_count": 19,
   "metadata": {},
   "outputs": [
    {
     "data": {
      "text/plain": [
       "<matplotlib.axes._subplots.AxesSubplot at 0x7f1ca57a7198>"
      ]
     },
     "execution_count": 19,
     "metadata": {},
     "output_type": "execute_result"
    },
    {
     "data": {
      "image/png": "[encoded data removed]",
      "text/plain": [
       "<Figure size 432x288 with 1 Axes>"
      ]
     },
     "metadata": {
      "needs_background": "light"
     },
     "output_type": "display_data"
    }
   ],
   "source": [
    "mostfreq_client = pd.DataFrame(mostfreq_client)\n",
    "mostfreq_client.rename(columns={'Orders Email Hash' : 'quantity'}, inplace=True)\n",
    "mostfreq_client.reset_index(level=mostfreq_client.index.names, inplace=True)\n",
    "\n",
    "sns.barplot(mostfreq_client['quarter'],mostfreq_client['quantity'], mostfreq_client['year']) "
   ]
  },
  {
   "cell_type": "markdown",
   "metadata": {},
   "source": [
    "Some observartions about this client behavior:\n",
    "* In the past 2 years (2016 and 2017), he/she shows a similar behavior (like a [cubic function](https://en.wikipedia.org/wiki/Cubic_function))\n",
    "* In the current year, behavior changed to a decreasing tendency. \n",
    "\n",
    "Some questions related to this client behavior:\n",
    "* Is he/she going to buy more on the Q4, acording to his previous behaviour, or is he going to keep his buying tendancy?\n",
    "* Is he moving his most buying frequency to Q1? The buying window has changed for this client? \n",
    "* Is there other clients with a similar behavior pattern?"
   ]
  },
  {
   "cell_type": "markdown",
   "metadata": {},
   "source": [
    "### Products"
   ]
  },
  {
   "cell_type": "markdown",
   "metadata": {},
   "source": [
    "How many unique products does this dataset has?"
   ]
  },
  {
   "cell_type": "code",
   "execution_count": 20,
   "metadata": {},
   "outputs": [
    {
     "data": {
      "text/plain": [
       "(1831,)"
      ]
     },
     "execution_count": 20,
     "metadata": {},
     "output_type": "execute_result"
    }
   ],
   "source": [
    "df['Variants SKU'].unique().shape"
   ]
  },
  {
   "cell_type": "markdown",
   "metadata": {},
   "source": [
    "Which are the top sale products?"
   ]
  },
  {
   "cell_type": "code",
   "execution_count": 21,
   "metadata": {},
   "outputs": [],
   "source": [
    "mostfreq_products = df['Variants SKU'].groupby(df['Variants SKU']).count().sort_values(ascending=False)"
   ]
  },
  {
   "cell_type": "code",
   "execution_count": 22,
   "metadata": {},
   "outputs": [
    {
     "data": {
      "text/plain": [
       "Variants SKU\n",
       "p52505530    3070\n",
       "p052597      2451\n",
       "p52505557    2448\n",
       "p052668      2394\n",
       "p5250409     2319\n",
       "p5250410     2283\n",
       "p5250411     2215\n",
       "p052454      2191\n",
       "p000476      1794\n",
       "p5250471     1745\n",
       "p52505531    1722\n",
       "p000422      1655\n",
       "p000490      1620\n",
       "p52505412    1561\n",
       "p52505570    1525\n",
       "p5250470     1500\n",
       "p052456      1484\n",
       "p052664      1432\n",
       "p052649      1396\n",
       "p052458      1371\n",
       "p52505426    1319\n",
       "p052648      1263\n",
       "p52505299    1228\n",
       "p52505533    1201\n",
       "p052551      1157\n",
       "p52505354    1103\n",
       "p52505532    1080\n",
       "p52505550    1073\n",
       "p0004277     1069\n",
       "p0004267     1021\n",
       "Name: Variants SKU, dtype: int64"
      ]
     },
     "execution_count": 22,
     "metadata": {},
     "output_type": "execute_result"
    }
   ],
   "source": [
    "mostfreq_products.head(30)"
   ]
  },
  {
   "cell_type": "code",
   "execution_count": 23,
   "metadata": {},
   "outputs": [
    {
     "data": {
      "text/plain": [
       "<matplotlib.axes._subplots.AxesSubplot at 0x7f1ca576a978>"
      ]
     },
     "execution_count": 23,
     "metadata": {},
     "output_type": "execute_result"
    },
    {
     "data": {
      "image/png": "[encoded data removed]",
      "text/plain": [
       "<Figure size 432x288 with 1 Axes>"
      ]
     },
     "metadata": {
      "needs_background": "light"
     },
     "output_type": "display_data"
    }
   ],
   "source": [
    "sns.boxplot(mostfreq_products)"
   ]
  },
  {
   "cell_type": "markdown",
   "metadata": {},
   "source": [
    "How many product names do we have?"
   ]
  },
  {
   "cell_type": "code",
   "execution_count": 25,
   "metadata": {},
   "outputs": [
    {
     "data": {
      "text/plain": [
       "(770,)"
      ]
     },
     "execution_count": 25,
     "metadata": {},
     "output_type": "execute_result"
    }
   ],
   "source": [
    "df['Products Name'].unique().shape"
   ]
  },
  {
   "cell_type": "markdown",
   "metadata": {},
   "source": [
    "There is a difference between the number of unique Product names (770) and Variants SKU (1831)"
   ]
  }
 ],
 "metadata": {
  "kernelspec": {
   "display_name": "Python 3",
   "language": "python",
   "name": "python3"
  },
  "language_info": {
   "codemirror_mode": {
    "name": "ipython",
    "version": 3
   },
   "file_extension": ".py",
   "mimetype": "text/x-python",
   "name": "python",
   "nbconvert_exporter": "python",
   "pygments_lexer": "ipython3",
   "version": "3.5.2"
  }
 },
 "nbformat": 4,
 "nbformat_minor": 2
}
